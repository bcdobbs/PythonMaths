{
 "metadata": {
  "language_info": {
   "codemirror_mode": {
    "name": "ipython",
    "version": 3
   },
   "file_extension": ".py",
   "mimetype": "text/x-python",
   "name": "python",
   "nbconvert_exporter": "python",
   "pygments_lexer": "ipython3",
   "version": "3.8.3-final"
  },
  "orig_nbformat": 2,
  "kernelspec": {
   "name": "python3",
   "display_name": "Python 3"
  }
 },
 "nbformat": 4,
 "nbformat_minor": 2,
 "cells": [
  {
   "cell_type": "markdown",
   "metadata": {},
   "source": [
    "# Solve and Plot ODE Solution"
   ]
  },
  {
   "cell_type": "code",
   "execution_count": 1,
   "metadata": {
    "tags": []
   },
   "outputs": [
    {
     "output_type": "stream",
     "name": "stdout",
     "text": "IPython console for SymPy 1.6.1 (Python 3.8.3-64-bit) (ground types: gmpy)\n\nThese commands were executed:\n>>> from __future__ import division\n>>> from sympy import *\n>>> x, y, z, t = symbols('x y z t')\n>>> k, m, n = symbols('k m n', integer=True)\n>>> f, g, h = symbols('f g h', cls=Function)\n>>> init_printing()\n\nDocumentation can be found at https://docs.sympy.org/1.6.1/\n\n"
    }
   ],
   "source": [
    "import numpy as np\n",
    "from matplotlib import pyplot as plt\n",
    "from matplotlib import interactive\n",
    "from sympy import init_session\n",
    "\n",
    "init_session(use_latex='mathjax', ipython = True)"
   ]
  },
  {
   "cell_type": "code",
   "execution_count": 2,
   "metadata": {
    "tags": []
   },
   "outputs": [
    {
     "output_type": "stream",
     "name": "stdout",
     "text": "Mass: 20.0\nDrag Coefficient: 5.0\ng: 9.8\n"
    }
   ],
   "source": [
    "# Allow user to input values for mass and drag coefficient.\n",
    "\n",
    "m = float(input('Mass:\\n> '))\n",
    "k = float(input('Drag Coefficient:\\n> '))\n",
    "g = 9.8\n",
    "\n",
    "print(\"Mass: \" + str(m))\n",
    "print(\"Drag Coefficient: \" + str(k))\n",
    "print(\"g: \" + str(g))"
   ]
  },
  {
   "cell_type": "code",
   "execution_count": 3,
   "metadata": {
    "tags": []
   },
   "outputs": [
    {
     "output_type": "display_data",
     "data": {
      "text/plain": "                 d                   \n-5.0⋅v(t) - 20.0⋅──(v(t)) + 196.0 = 0\n                 dt                  ",
      "text/latex": "$\\displaystyle - 5.0 v{\\left(t \\right)} - 20.0 \\frac{d}{d t} v{\\left(t \\right)} + 196.0 = 0$"
     },
     "metadata": {}
    }
   ],
   "source": [
    "# Define symbols\n",
    "v = symbols('v', cls = Function)\n",
    "t = symbols('t')\n",
    "\n",
    "# Define ODE\n",
    "diff_eqn = Equality(g*m - k * v(t) - m * v(t).diff(t),0)\n",
    "\n",
    "# Display the ODE\n",
    "display(diff_eqn)"
   ]
  },
  {
   "cell_type": "code",
   "execution_count": 4,
   "metadata": {
    "tags": []
   },
   "outputs": [
    {
     "output_type": "display_data",
     "data": {
      "text/plain": "           -0.25⋅t       \nv(t) = C₁⋅ℯ        + 39.2",
      "text/latex": "$\\displaystyle v{\\left(t \\right)} = C_{1} e^{- 0.25 t} + 39.2$"
     },
     "metadata": {}
    }
   ],
   "source": [
    "#Find a general solution\n",
    "gen_sol = dsolve(diff_eqn)\n",
    "display(gen_sol)\n"
   ]
  },
  {
   "cell_type": "code",
   "execution_count": 5,
   "metadata": {
    "tags": []
   },
   "outputs": [
    {
     "output_type": "display_data",
     "data": {
      "text/plain": "C₁ = -39.2",
      "text/latex": "$\\displaystyle C_{1} = -39.2$"
     },
     "metadata": {}
    }
   ],
   "source": [
    "# Solution is generated with an arbitrary constant C1 which we have to define as a symbol.\n",
    "C1 = Symbol('C1')\n",
    "\n",
    "# Find the value of C1 when t=0. The [0] specifies the first solution.\n",
    "C1_val = solve(gen_sol.rhs.subs(t,0), C1)[0]\n",
    "\n",
    "#Display value of constant.\n",
    "display(Eq(C1, C1_val))\n"
   ]
  },
  {
   "cell_type": "code",
   "execution_count": 6,
   "metadata": {},
   "outputs": [
    {
     "output_type": "display_data",
     "data": {
      "text/plain": "                    -0.25⋅t\nv(t) = 39.2 - 39.2⋅ℯ       ",
      "text/latex": "$\\displaystyle v{\\left(t \\right)} = 39.2 - 39.2 e^{- 0.25 t}$"
     },
     "metadata": {}
    }
   ],
   "source": [
    "# Subsitute the specifc value we found for C1 into the general solution.\n",
    "specific_sol = gen_sol.subs(C1, C1_val)\n",
    "display(specific_sol)"
   ]
  },
  {
   "cell_type": "code",
   "execution_count": 7,
   "metadata": {
    "tags": []
   },
   "outputs": [
    {
     "output_type": "stream",
     "name": "stdout",
     "text": "When t = 5, v = 27.96901196308055\n"
    }
   ],
   "source": [
    "# In order to then use our solution to rapidly calculate values it is best practice to convert it to a numpy lambda function.\n",
    "np_func = lambdify(t, specific_sol.rhs,'numpy')\n",
    "print(\"When t = 5, v = \" + str(np_func(5)))"
   ]
  },
  {
   "cell_type": "code",
   "execution_count": 12,
   "metadata": {
    "tags": []
   },
   "outputs": [],
   "source": [
    "# Create a list of x values from 0 to 100 going up in 0.1\n",
    "xvals = np.arange(0,100,.1)\n",
    "\n",
    "# For each x value calculate a y value.\n",
    "yvals = np_func(xvals)\n",
    "\n",
    "# Set up a figure and axis.\n",
    "%matplotlib inline\n",
    "fig, ax = plt.subplots(1,1,subplot_kw=dict(aspect='equal'))  \n",
    "\n",
    "# Plot values.\n",
    "ax.plot(xvals, yvals)\n",
    "\n",
    "# Label axis.\n",
    "ax.set_xlabel('t')\n",
    "ax.set_ylabel('v(t)')\n",
    "\n",
    "# Show the plot.\n",
    "plt.show()"
   ]
  },
  {
   "cell_type": "code",
   "execution_count": null,
   "metadata": {},
   "outputs": [],
   "source": []
  }
 ]
}