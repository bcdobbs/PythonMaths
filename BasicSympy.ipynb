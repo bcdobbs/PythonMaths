{
 "metadata": {
  "language_info": {
   "codemirror_mode": {
    "name": "ipython",
    "version": 3
   },
   "file_extension": ".py",
   "mimetype": "text/x-python",
   "name": "python",
   "nbconvert_exporter": "python",
   "pygments_lexer": "ipython3",
   "version": "3.8.3-final"
  },
  "orig_nbformat": 2,
  "kernelspec": {
   "name": "python3",
   "display_name": "Python 3"
  }
 },
 "nbformat": 4,
 "nbformat_minor": 2,
 "cells": [
  {
   "cell_type": "markdown",
   "metadata": {},
   "source": [
    "# Sympy Example Workbook"
   ]
  },
  {
   "cell_type": "markdown",
   "metadata": {},
   "source": [
    "Import all of sympy:"
   ]
  },
  {
   "cell_type": "code",
   "execution_count": 14,
   "metadata": {},
   "outputs": [],
   "source": [
    "from sympy import *"
   ]
  },
  {
   "cell_type": "markdown",
   "metadata": {},
   "source": [
    "### Basic Calculator"
   ]
  },
  {
   "cell_type": "code",
   "execution_count": 15,
   "metadata": {
    "tags": []
   },
   "outputs": [
    {
     "output_type": "stream",
     "name": "stdout",
     "text": "Value of a is: 5/8\nValue of b is: 3\n"
    }
   ],
   "source": [
    "a = Rational(5,8)\n",
    "print (\"Value of a is: \" + str(a))\n",
    "\n",
    "b = Integer(3.579)\n",
    "print (\"Value of b is: \" + str(b))"
   ]
  },
  {
   "cell_type": "markdown",
   "metadata": {},
   "source": [
    "### Demo of arbitrary-precision arithmetic"
   ]
  },
  {
   "cell_type": "code",
   "execution_count": 16,
   "metadata": {
    "tags": []
   },
   "outputs": [
    {
     "output_type": "stream",
     "name": "stdout",
     "text": "value of p is :pi**3\nvalue of q is :3.14159265358979\nvalue of r is :2.71828182845905\nvalue of s is :5.85987448204884\nvalue of rslt is :oo\nTrue\n"
    }
   ],
   "source": [
    "p = pi**3\n",
    "print(\"value of p is :\" + str(p)) \n",
    "  \n",
    "# evalf method evaluates the expression to a floating-point number \n",
    "q = pi.evalf() \n",
    "print(\"value of q is :\" + str(q)) \n",
    "  \n",
    "# equivalent to e ^ 1 or e ** 1 \n",
    "r = sy.exp(1).evalf() \n",
    "print(\"value of r is :\" + str(r)) \n",
    "  \n",
    "s = (sy.pi + exp(1)).evalf() \n",
    "print(\"value of s is :\" + str(s)) \n",
    "  \n",
    "rslt = oo + 10000\n",
    "print(\"value of rslt is :\" + str(rslt)) \n",
    "  \n",
    "if oo > 9999999 : \n",
    "    print(\"True\") \n",
    "else: \n",
    "    print(\"False\") "
   ]
  },
  {
   "cell_type": "markdown",
   "metadata": {},
   "source": [
    "### Basic symbolic algebra"
   ]
  },
  {
   "cell_type": "code",
   "execution_count": 17,
   "metadata": {
    "tags": []
   },
   "outputs": [
    {
     "output_type": "stream",
     "name": "stdout",
     "text": "value of z is :2*x\n"
    }
   ],
   "source": [
    "x = Symbol('x') \n",
    "y = Symbol('y') \n",
    "  \n",
    "z = (x + y) + (x-y) \n",
    "print(\"value of z is :\" + str(z)) "
   ]
  },
  {
   "cell_type": "markdown",
   "metadata": {},
   "source": [
    "### More advanced symbolic algebra"
   ]
  },
  {
   "cell_type": "code",
   "execution_count": 18,
   "metadata": {
    "tags": []
   },
   "outputs": [
    {
     "output_type": "stream",
     "name": "stdout",
     "text": "derivative of sin(x)*e ^ x :  exp(x)*sin(x) + exp(x)*cos(x)\nindefinite integration is :  exp(x)*sin(x)\ndefinite integration is :  sqrt(2)*sqrt(pi)/2\nlimit is :  1\nroots are :  [-sqrt(2), sqrt(2)]\n"
    }
   ],
   "source": [
    "# make a symbol \n",
    "x = Symbol('x') \n",
    "  \n",
    "# Take the derivative of sin(x)*e ^ x \n",
    "ans1 = diff(sin(x)*exp(x), x) \n",
    "print(\"derivative of sin(x)*e ^ x : \", ans1) \n",
    "  \n",
    "# Compute (e ^ x * sin(x)+ e ^ x * cos(x))dx \n",
    "ans2 = integrate(exp(x)*sin(x) + exp(x)*cos(x), x) \n",
    "print(\"indefinite integration is : \", ans2) \n",
    "  \n",
    "# Compute definite integral of sin(x ^ 2)dx \n",
    "# in b / w interval of ? and ?? . \n",
    "ans3 = integrate(sin(x**2), (x, -oo, oo)) \n",
    "print(\"definite integration is : \", ans3) \n",
    "  \n",
    "# Find the limit of sin(x) / x given x tends to 0  \n",
    "ans4 = limit(sin(x)/x, x, 0) \n",
    "print(\"limit is : \", ans4) \n",
    "  \n",
    "# Solve quadratic equation like, example : x ^ 2?2 = 0 \n",
    "ans5 = solve(x**2 - 2, x) \n",
    "print(\"roots are : \", ans5)"
   ]
  },
  {
   "cell_type": "code",
   "execution_count": null,
   "metadata": {},
   "outputs": [],
   "source": []
  }
 ]
}