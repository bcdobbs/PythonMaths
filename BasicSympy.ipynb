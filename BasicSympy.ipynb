{
 "metadata": {
  "language_info": {
   "codemirror_mode": {
    "name": "ipython",
    "version": 3
   },
   "file_extension": ".py",
   "mimetype": "text/x-python",
   "name": "python",
   "nbconvert_exporter": "python",
   "pygments_lexer": "ipython3",
   "version": "3.8.3-final"
  },
  "orig_nbformat": 2,
  "kernelspec": {
   "name": "python3",
   "display_name": "Python 3"
  }
 },
 "nbformat": 4,
 "nbformat_minor": 2,
 "cells": [
  {
   "cell_type": "markdown",
   "metadata": {},
   "source": [
    "# Sympy Example Workbook"
   ]
  },
  {
   "cell_type": "markdown",
   "metadata": {},
   "source": [
    "Import all of sympy:"
   ]
  },
  {
   "cell_type": "code",
   "execution_count": 1,
   "metadata": {
    "tags": []
   },
   "outputs": [
    {
     "output_type": "stream",
     "name": "stdout",
     "text": "IPython console for SymPy 1.6.1 (Python 3.8.3-64-bit) (ground types: gmpy)\n\nThese commands were executed:\n>>> from __future__ import division\n>>> from sympy import *\n>>> x, y, z, t = symbols('x y z t')\n>>> k, m, n = symbols('k m n', integer=True)\n>>> f, g, h = symbols('f g h', cls=Function)\n>>> init_printing()\n\nDocumentation can be found at https://docs.sympy.org/1.6.1/\n\n"
    }
   ],
   "source": [
    "from sympy import init_session\n",
    "init_session(use_latex='mathjax')\n"
   ]
  },
  {
   "cell_type": "markdown",
   "metadata": {},
   "source": [
    "It's worth noting that the above initialisation creates symbols and functions. To demo how it is done we will manually create each time below."
   ]
  },
  {
   "cell_type": "markdown",
   "metadata": {},
   "source": [
    "### Basic example"
   ]
  },
  {
   "cell_type": "code",
   "execution_count": 2,
   "metadata": {
    "tags": []
   },
   "outputs": [
    {
     "output_type": "stream",
     "name": "stdout",
     "text": "Value of a is: \n"
    },
    {
     "output_type": "display_data",
     "data": {
      "text/plain": "5/8",
      "text/latex": "$\\displaystyle \\frac{5}{8}$"
     },
     "metadata": {}
    },
    {
     "output_type": "stream",
     "name": "stdout",
     "text": "Value of b is: \n"
    },
    {
     "output_type": "display_data",
     "data": {
      "text/plain": "3",
      "text/latex": "$\\displaystyle 3$"
     },
     "metadata": {}
    }
   ],
   "source": [
    "a = Rational(5,8)\n",
    "\n",
    "print (\"Value of a is: \") \n",
    "display(a)\n",
    "\n",
    "b = Integer(3.579)\n",
    "print (\"Value of b is: \")\n",
    "display(b)\n"
   ]
  },
  {
   "cell_type": "markdown",
   "metadata": {},
   "source": [
    "### Demo of arbitrary-precision arithmetic"
   ]
  },
  {
   "cell_type": "code",
   "execution_count": 6,
   "metadata": {
    "tags": []
   },
   "outputs": [
    {
     "output_type": "stream",
     "name": "stdout",
     "text": "Value of p is: \n"
    },
    {
     "output_type": "display_data",
     "data": {
      "text/plain": " 3\nπ ",
      "text/latex": "$\\displaystyle \\pi^{3}$"
     },
     "metadata": {}
    },
    {
     "output_type": "stream",
     "name": "stdout",
     "text": "Value of q is: 3.14159265358979\nValue of r is: 2.71828182845905\nValue of s is: 5.85987448204884\nValue of rslt is: oo\nTrue\n"
    }
   ],
   "source": [
    "p = pi**3\n",
    "print(\"Value of p is: \")\n",
    "display(p) \n",
    "  \n",
    "# evalf method evaluates the expression to a floating-point number \n",
    "q = pi.evalf() \n",
    "print(\"Value of q is: \" + str(q)) \n",
    "  \n",
    "# equivalent to e ^ 1 or e ** 1 \n",
    "r = exp(1).evalf() \n",
    "print(\"Value of r is: \" + str(r)) \n",
    "  \n",
    "s = (pi + exp(1)).evalf() \n",
    "print(\"Value of s is: \" + str(s)) \n",
    "  \n",
    "rslt = oo + 10000\n",
    "print(\"Value of rslt is: \" + str(rslt)) \n",
    "  \n",
    "if oo > 9999999 : \n",
    "    print(\"True\") \n",
    "else: \n",
    "    print(\"False\") "
   ]
  },
  {
   "cell_type": "markdown",
   "metadata": {},
   "source": [
    "### Basic symbolic algebra"
   ]
  },
  {
   "cell_type": "code",
   "execution_count": 4,
   "metadata": {
    "tags": []
   },
   "outputs": [
    {
     "output_type": "execute_result",
     "data": {
      "text/plain": "z = 2⋅x",
      "text/latex": "$\\displaystyle z = 2 x$"
     },
     "metadata": {},
     "execution_count": 4
    }
   ],
   "source": [
    "x = Symbol('x') \n",
    "y = Symbol('y') \n",
    "z = Symbol('z')\n",
    "  \n",
    "equ = Eq(z, (x + y) + (x-y))\n",
    "\n",
    "equ"
   ]
  },
  {
   "cell_type": "markdown",
   "metadata": {},
   "source": [
    "### More advanced symbolic algebra"
   ]
  },
  {
   "cell_type": "code",
   "execution_count": 5,
   "metadata": {
    "tags": []
   },
   "outputs": [
    {
     "output_type": "stream",
     "name": "stdout",
     "text": "Derivative of sin(x)*e ^ x : \n"
    },
    {
     "output_type": "display_data",
     "data": {
      "text/plain": " x           x       \nℯ ⋅sin(x) + ℯ ⋅cos(x)",
      "text/latex": "$\\displaystyle e^{x} \\sin{\\left(x \\right)} + e^{x} \\cos{\\left(x \\right)}$"
     },
     "metadata": {}
    },
    {
     "output_type": "stream",
     "name": "stdout",
     "text": "Indefinite integration is : \n"
    },
    {
     "output_type": "display_data",
     "data": {
      "text/plain": " x       \nℯ ⋅sin(x)",
      "text/latex": "$\\displaystyle e^{x} \\sin{\\left(x \\right)}$"
     },
     "metadata": {}
    },
    {
     "output_type": "stream",
     "name": "stdout",
     "text": "definite integration is :\n"
    },
    {
     "output_type": "display_data",
     "data": {
      "text/plain": "√2⋅√π\n─────\n  2  ",
      "text/latex": "$\\displaystyle \\frac{\\sqrt{2} \\sqrt{\\pi}}{2}$"
     },
     "metadata": {}
    },
    {
     "output_type": "stream",
     "name": "stdout",
     "text": "limit is:\n"
    },
    {
     "output_type": "display_data",
     "data": {
      "text/plain": "1",
      "text/latex": "$\\displaystyle 1$"
     },
     "metadata": {}
    },
    {
     "output_type": "stream",
     "name": "stdout",
     "text": "Roots are : \n"
    },
    {
     "output_type": "display_data",
     "data": {
      "text/plain": "-√2",
      "text/latex": "$\\displaystyle - \\sqrt{2}$"
     },
     "metadata": {}
    },
    {
     "output_type": "display_data",
     "data": {
      "text/plain": "√2",
      "text/latex": "$\\displaystyle \\sqrt{2}$"
     },
     "metadata": {}
    }
   ],
   "source": [
    "# make a symbol \n",
    "x = Symbol('x') \n",
    "  \n",
    "# Take the derivative of sin(x)*e ^ x \n",
    "ans1 = diff(sin(x)*exp(x), x) \n",
    "print(\"Derivative of sin(x)*e ^ x : \")\n",
    "\n",
    "display(ans1)\n",
    "  \n",
    "# Compute (e ^ x * sin(x)+ e ^ x * cos(x))dx \n",
    "ans2 = integrate(exp(x)*sin(x) + exp(x)*cos(x), x) \n",
    "print(\"Indefinite integration is : \") \n",
    "display(ans2) \n",
    "  \n",
    "# Compute definite integral of sin(x ^ 2)dx \n",
    "# in b / w interval of ? and ?? . \n",
    "ans3 = integrate(sin(x**2), (x, -oo, oo)) \n",
    "print(\"definite integration is :\")\n",
    "display(ans3) \n",
    "  \n",
    "# Find the limit of sin(x) / x given x tends to 0  \n",
    "ans4 = limit(sin(x)/x, x, 0) \n",
    "print(\"limit is:\") \n",
    "display(ans4) \n",
    "  \n",
    "# Solve quadratic equation like, example : x^2 - 2 = 0 \n",
    "ans5 = solve(x**2 - 2, x)\n",
    "print(\"Roots are : \"), \n",
    "display(ans5[0])\n",
    "display(ans5[1])"
   ]
  },
  {
   "cell_type": "code",
   "execution_count": null,
   "metadata": {},
   "outputs": [],
   "source": []
  }
 ]
}