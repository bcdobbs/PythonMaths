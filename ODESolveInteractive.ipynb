{
 "metadata": {
  "language_info": {
   "codemirror_mode": {
    "name": "ipython",
    "version": 3
   },
   "file_extension": ".py",
   "mimetype": "text/x-python",
   "name": "python",
   "nbconvert_exporter": "python",
   "pygments_lexer": "ipython3",
   "version": "3.8.3-final"
  },
  "orig_nbformat": 2,
  "kernelspec": {
   "name": "python3",
   "display_name": "Python 3"
  }
 },
 "nbformat": 4,
 "nbformat_minor": 2,
 "cells": [
  {
   "cell_type": "markdown",
   "metadata": {},
   "source": [
    "# Interactive ODE Solve"
   ]
  },
  {
   "cell_type": "code",
   "execution_count": 1,
   "metadata": {
    "tags": []
   },
   "outputs": [
    {
     "output_type": "stream",
     "name": "stdout",
     "text": "IPython console for SymPy 1.6.1 (Python 3.8.3-64-bit) (ground types: gmpy)\n\nThese commands were executed:\n>>> from __future__ import division\n>>> from sympy import *\n>>> x, y, z, t = symbols('x y z t')\n>>> k, m, n = symbols('k m n', integer=True)\n>>> f, g, h = symbols('f g h', cls=Function)\n>>> init_printing()\n\nDocumentation can be found at https://docs.sympy.org/1.6.1/\n\n"
    }
   ],
   "source": [
    "%matplotlib inline\n",
    "\n",
    "from ipywidgets import interact, interactive\n",
    "from IPython.display import clear_output, display, HTML\n",
    "\n",
    "import numpy as np\n",
    "\n",
    "from matplotlib import pyplot as plt\n",
    "from matplotlib.colors import cnames\n",
    "from matplotlib import animation\n",
    "\n",
    "from sympy import init_session\n",
    "\n",
    "init_session(use_latex='mathjax', ipython = True)"
   ]
  },
  {
   "cell_type": "code",
   "execution_count": 2,
   "metadata": {},
   "outputs": [],
   "source": [
    "def solve_ode_and_plot(m=10, k=2, =9.8):\n",
    "    # Define symbols\n",
    "    v = symbols('v', cls = Function)\n",
    "    t = symbols('t')\n",
    "\n",
    "    # Define ODE\n",
    "    diff_eqn = Equality(g*m - k * v(t) - m * v(t).diff(t),0)\n",
    "\n",
    "    # Display the ODE\n",
    "    #print(\"Differential equation to solve: \")\n",
    "    #display(diff_eqn)\n",
    "\n",
    "    # Find the general solution\n",
    "    gen_sol = dsolve(diff_eqn)\n",
    "    #print(\"General solution: \")\n",
    "    #display(gen_sol)\n",
    "\n",
    "    # Solution is generated with an arbitrary constant C1 which we have to define as a symbol.\n",
    "    C1 = Symbol('C1')\n",
    "\n",
    "    # Find the value of C1 given v(0) = 0. \n",
    "    # The curly brackets form a dictionary https://www.w3schools.com/python/python_dictionaries.asp\n",
    "    # The [0] specifies the first solution.\n",
    "    C1_val = solve(gen_sol.subs({t: 0, v(t): 0}), C1)[0]\n",
    "\n",
    "    #Display value of constant.\n",
    "    #print(\"Given v=0 when t=0: \")\n",
    "    #display(Eq(C1, C1_val))\n",
    "\n",
    "    # Subsitute the specifc value we found for C1 into the general solution.\n",
    "    specific_sol = gen_sol.subs(C1, C1_val)\n",
    "    #print(\"Specific solution: \")\n",
    "    #display(specific_sol)\n",
    "\n",
    "    # In order to then use our solution to rapidly calculate values it is best practice to convert it to a numpy lambda function.\n",
    "    np_func = lambdify(t, specific_sol.rhs,'numpy')\n",
    "\n",
    "    # Create a list of x values from 0 to 100 going up in 0.1\n",
    "    xvals = np.arange(0,100,.1)\n",
    "\n",
    "    # For each x value calculate a y value.\n",
    "    yvals = np_func(xvals)\n",
    "\n",
    "    # Set up a figure and axis.\n",
    "    fig, ax = plt.subplots(1,1,subplot_kw=dict(aspect='equal'))  \n",
    "\n",
    "    # Plot values.\n",
    "    ax.plot(xvals, yvals)\n",
    "\n",
    "    # Label axis.\n",
    "    ax.set_xlabel('t')\n",
    "    ax.set_ylabel('v(t)')\n",
    " \n",
    "    # Show the plot.\n",
    "    plt.show()\n",
    "    return xvals, yvals\n",
    "\n"
   ]
  },
  {
   "cell_type": "code",
   "execution_count": 7,
   "metadata": {
    "tags": []
   },
   "outputs": [
    {
     "output_type": "error",
     "ename": "TypeError",
     "evalue": "'module' object is not callable",
     "traceback": [
      "\u001b[1;31m---------------------------------------------------------------------------\u001b[0m",
      "\u001b[1;31mTypeError\u001b[0m                                 Traceback (most recent call last)",
      "\u001b[1;32m<ipython-input-7-65f266542858>\u001b[0m in \u001b[0;36m<module>\u001b[1;34m\u001b[0m\n\u001b[1;32m----> 1\u001b[1;33m \u001b[0mw\u001b[0m \u001b[1;33m=\u001b[0m \u001b[0minteractive\u001b[0m\u001b[1;33m(\u001b[0m\u001b[0msolve_ode_and_plot\u001b[0m\u001b[1;33m(\u001b[0m\u001b[1;33m)\u001b[0m\u001b[1;33m)\u001b[0m\u001b[1;33m\u001b[0m\u001b[1;33m\u001b[0m\u001b[0m\n\u001b[0m",
      "\u001b[1;31mTypeError\u001b[0m: 'module' object is not callable"
     ]
    }
   ],
   "source": [
    "w = interactive(solve_ode_and_plot())"
   ]
  },
  {
   "cell_type": "code",
   "execution_count": null,
   "metadata": {},
   "outputs": [],
   "source": []
  }
 ]
}